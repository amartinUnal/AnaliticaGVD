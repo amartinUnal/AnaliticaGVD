{
 "cells": [
  {
   "cell_type": "code",
   "execution_count": 1,
   "metadata": {},
   "outputs": [],
   "source": [
    "## WordCount en PySpark"
   ]
  },
  {
   "cell_type": "code",
   "execution_count": 2,
   "metadata": {},
   "outputs": [],
   "source": [
    "## Definición del problema\n",
    "##  Se desea contar la frecuencia de las palabras que aparecen en varios archivos de textos. Para simplificar el problema, pruebe el algoritmo con los archivos generados en \n",
    "##  las siguientes celdas.\n",
    "##  Nota.— Los archivos se encuentran en el directorio wordcount de la carpeta de trabajo."
   ]
  },
  {
   "cell_type": "code",
   "execution_count": 3,
   "metadata": {},
   "outputs": [],
   "source": [
    "##\n",
    "## Se crea el directorio wordcount en la carpeta actual de trabajo\n",
    "## y se escriben tres archivos en ella.\n",
    "##\n",
    "!mkdir -p wordcount/"
   ]
  },
  {
   "cell_type": "code",
   "execution_count": 4,
   "metadata": {},
   "outputs": [
    {
     "name": "stdout",
     "output_type": "stream",
     "text": [
      "Writing wordcount/text0.txt\n"
     ]
    }
   ],
   "source": [
    "%%writefile wordcount/text0.txt\n",
    "Analytics is the discovery, interpretation, and communication of meaningful patterns\n",
    "in data. Especially valuable in areas rich with recorded information, analytics relies\n",
    "on the simultaneous application of statistics, computer programming and operations research\n",
    "to quantify performance.\n",
    "\n",
    "Organizations may apply analytics to business data to describe, predict, and improve business\n",
    "performance. Specifically, areas within analytics include predictive analytics, prescriptive\n",
    "analytics, enterprise decision management, descriptive analytics, cognitive analytics, Big\n",
    "Data Analytics, retail analytics, store assortment and stock-keeping unit optimization,\n",
    "marketing optimization and marketing mix modeling, web analytics, call analytics, speech\n",
    "analytics, sales force sizing and optimization, price and promotion modeling, predictive\n",
    "science, credit risk analysis, and fraud analytics. Since analytics can require extensive\n",
    "computation (see big data), the algorithms and software used for analytics harness the most\n",
    "current methods in computer science, statistics, and mathematics."
   ]
  },
  {
   "cell_type": "code",
   "execution_count": 5,
   "metadata": {},
   "outputs": [
    {
     "name": "stdout",
     "output_type": "stream",
     "text": [
      "Writing wordcount/text1.txt\n"
     ]
    }
   ],
   "source": [
    "%%writefile wordcount/text1.txt\n",
    "The field of data analysis. Analytics often involves studying past historical data to\n",
    "research potential trends, to analyze the effects of certain decisions or events, or to\n",
    "evaluate the performance of a given tool or scenario. The goal of analytics is to improve\n",
    "the business by gaining knowledge which can be used to make improvements or changes."
   ]
  },
  {
   "cell_type": "code",
   "execution_count": 6,
   "metadata": {},
   "outputs": [
    {
     "name": "stdout",
     "output_type": "stream",
     "text": [
      "Writing wordcount/text2.txt\n"
     ]
    }
   ],
   "source": [
    "%%writefile wordcount/text2.txt\n",
    "Data analytics (DA) is the process of examining data sets in order to draw conclusions\n",
    "about the information they contain, increasingly with the aid of specialized systems\n",
    "and software. Data analytics technologies and techniques are widely used in commercial\n",
    "industries to enable organizations to make more-informed business decisions and by\n",
    "scientists and researchers to verify or disprove scientific models, theories and\n",
    "hypotheses."
   ]
  },
  {
   "cell_type": "code",
   "execution_count": 7,
   "metadata": {},
   "outputs": [],
   "source": [
    "## Solución: Algoritmo MapReduce\n",
    "##   MapReduce es el término utilizado para describir un modelo de programación en paralelo que permite el procesamiento de grandes volúmenes de datos o Big Data \n",
    "##   que resultan difíciles de procesar en las aplicaciones tradicionales de procesamiento de datos. En el concepto de Big Data convergen las técnicas de almacenamiento \n",
    "##   distribuido de datos con la computación de alto desempeño mediante clusters."
   ]
  },
  {
   "cell_type": "code",
   "execution_count": 8,
   "metadata": {},
   "outputs": [],
   "source": [
    "## Apache Spark\n",
    "##   Spark es un modelo computacional en el cual se elimina elimina a escritura a disco entre jobs (sólo se escribe cuando es necesario), lo que permite que el proceso \n",
    "##   se ejecute mucho más rápido. Sus principales componentes son las siguientes:\n",
    "##      SparkRDD: opera sobre conjuntos de datos distribuidos mediante operaciones MapReduce.\n",
    "##      SparkQL: Implementación del lenguaje SQL que puede ejecutarse sobre datos estructurados como tablas.\n",
    "##      SparkML: Implementación de algoritmos de aprendizaje estadístico y aprendizaje automática que operan sobre datos estructurados como tablas."
   ]
  },
  {
   "cell_type": "code",
   "execution_count": 9,
   "metadata": {},
   "outputs": [],
   "source": [
    "## Conteo de palabras usando SparkRDD\n",
    "##  A continuación se realiza el conteo de frecuencia de palabras usando SparkRDD. Se asume que Spark está ejecutándose en un cluster."
   ]
  },
  {
   "cell_type": "code",
   "execution_count": 10,
   "metadata": {},
   "outputs": [],
   "source": [
    "##\n",
    "## Se usan un directorio temporal en el HDFS. La siguiente\n",
    "## instrucción muestra el contenido del dicho directorio\n",
    "##\n",
    "!hdfs dfs -ls /tmp"
   ]
  },
  {
   "cell_type": "code",
   "execution_count": 11,
   "metadata": {},
   "outputs": [],
   "source": [
    "##\n",
    "## Crea la carpeta wordcount en el hdfs\n",
    "##\n",
    "!hdfs dfs -mkdir /tmp/wordcount"
   ]
  },
  {
   "cell_type": "code",
   "execution_count": 12,
   "metadata": {},
   "outputs": [
    {
     "name": "stdout",
     "output_type": "stream",
     "text": [
      "Found 1 items\n",
      "drwxr-xr-x   - root supergroup          0 2019-11-28 02:19 /tmp/wordcount\n"
     ]
    }
   ],
   "source": [
    "##\n",
    "## Verifica la creación de la carpeta\n",
    "##\n",
    "!hdfs dfs -ls /tmp/"
   ]
  },
  {
   "cell_type": "code",
   "execution_count": 13,
   "metadata": {},
   "outputs": [],
   "source": [
    "##\n",
    "## Copia los archvios del directorio local wordcount/\n",
    "## al directorio /tmp/wordcount/ en el hdfs\n",
    "##\n",
    "!hdfs dfs -copyFromLocal wordcount/*  /tmp/wordcount/"
   ]
  },
  {
   "cell_type": "code",
   "execution_count": 14,
   "metadata": {},
   "outputs": [
    {
     "name": "stdout",
     "output_type": "stream",
     "text": [
      "Found 3 items\n",
      "-rw-r--r--   1 root supergroup       1082 2019-11-28 02:19 /tmp/wordcount/text0.txt\n",
      "-rw-r--r--   1 root supergroup        349 2019-11-28 02:19 /tmp/wordcount/text1.txt\n",
      "-rw-r--r--   1 root supergroup        435 2019-11-28 02:19 /tmp/wordcount/text2.txt\n"
     ]
    }
   ],
   "source": [
    "##\n",
    "## Verifica que los archivos esten copiados\n",
    "## en el hdfs\n",
    "##\n",
    "!hdfs dfs -ls /tmp/wordcount"
   ]
  },
  {
   "cell_type": "code",
   "execution_count": 15,
   "metadata": {},
   "outputs": [],
   "source": [
    "## Implementación en PySpark"
   ]
  },
  {
   "cell_type": "code",
   "execution_count": 16,
   "metadata": {},
   "outputs": [],
   "source": [
    "##\n",
    "## findspark: Permite usar PySpark como una libreria de Python\n",
    "##\n",
    "import findspark\n",
    "findspark.init()\n",
    "\n",
    "##\n",
    "## Importa las librerias requeridas para conectar\n",
    "## a Python con PySpark\n",
    "##\n",
    "from pyspark import SparkConf, SparkContext\n",
    "\n",
    "##\n",
    "## operador de agregación (MapReduce)\n",
    "##\n",
    "from operator import add\n",
    "\n",
    "##\n",
    "## Nombre de la aplicación en el cluster\n",
    "##\n",
    "APP_NAME = \"My Spark Application\"\n",
    "\n",
    "##\n",
    "## Configure Spark\n",
    "##\n",
    "conf = SparkConf().setAppName(APP_NAME)\n",
    "sc = SparkContext(conf=conf)\n",
    "sc.setLogLevel('ERROR')"
   ]
  },
  {
   "cell_type": "code",
   "execution_count": 17,
   "metadata": {},
   "outputs": [
    {
     "data": {
      "text/plain": [
       "['Analytics is the discovery, interpretation, and communication of meaningful patterns',\n",
       " 'in data. Especially valuable in areas rich with recorded information, analytics relies',\n",
       " 'on the simultaneous application of statistics, computer programming and operations research',\n",
       " 'to quantify performance.',\n",
       " '',\n",
       " 'Organizations may apply analytics to business data to describe, predict, and improve business',\n",
       " 'performance. Specifically, areas within analytics include predictive analytics, prescriptive',\n",
       " 'analytics, enterprise decision management, descriptive analytics, cognitive analytics, Big',\n",
       " 'Data Analytics, retail analytics, store assortment and stock-keeping unit optimization,',\n",
       " 'marketing optimization and marketing mix modeling, web analytics, call analytics, speech']"
      ]
     },
     "execution_count": 17,
     "metadata": {},
     "output_type": "execute_result"
    }
   ],
   "source": [
    "#\n",
    "## Lee los archivos del hdfs y los carga\n",
    "## a la variable text\n",
    "##\n",
    "text = sc.textFile(\"/tmp/wordcount/*.txt\")\n",
    "\n",
    "## Se imprimen las primeras 10 líneas\n",
    "text.collect()[0:10]"
   ]
  },
  {
   "cell_type": "code",
   "execution_count": 18,
   "metadata": {},
   "outputs": [
    {
     "data": {
      "text/plain": [
       "['Analytics',\n",
       " 'is',\n",
       " 'the',\n",
       " 'discovery,',\n",
       " 'interpretation,',\n",
       " 'and',\n",
       " 'communication',\n",
       " 'of',\n",
       " 'meaningful',\n",
       " 'patterns']"
      ]
     },
     "execution_count": 18,
     "metadata": {},
     "output_type": "execute_result"
    }
   ],
   "source": [
    "##\n",
    "## separa por palabras (split)\n",
    "## con una palabra por registro\n",
    "##\n",
    "words = text.flatMap(lambda x: x.split())\n",
    "\n",
    "## Se imprimen las primeras 10 palabras\n",
    "words.collect()[0:10]"
   ]
  },
  {
   "cell_type": "code",
   "execution_count": 19,
   "metadata": {},
   "outputs": [
    {
     "data": {
      "text/plain": [
       "[('Analytics', 1),\n",
       " ('is', 1),\n",
       " ('the', 1),\n",
       " ('discovery,', 1),\n",
       " ('interpretation,', 1),\n",
       " ('and', 1),\n",
       " ('communication', 1),\n",
       " ('of', 1),\n",
       " ('meaningful', 1),\n",
       " ('patterns', 1)]"
      ]
     },
     "execution_count": 19,
     "metadata": {},
     "output_type": "execute_result"
    }
   ],
   "source": [
    "##\n",
    "## Genera las parejas <clave, valor> representandolas\n",
    "## com la tupla (word, 1)\n",
    "##\n",
    "wc = words.map(lambda x: (x,1))\n",
    "wc.collect()[0:10]"
   ]
  },
  {
   "cell_type": "code",
   "execution_count": 20,
   "metadata": {},
   "outputs": [
    {
     "data": {
      "text/plain": [
       "[('interpretation,', 1),\n",
       " ('of', 8),\n",
       " ('in', 5),\n",
       " ('data.', 1),\n",
       " ('Especially', 1),\n",
       " ('analytics', 8),\n",
       " ('simultaneous', 1),\n",
       " ('operations', 1),\n",
       " ('research', 2),\n",
       " ('quantify', 1)]"
      ]
     },
     "execution_count": 20,
     "metadata": {},
     "output_type": "execute_result"
    }
   ],
   "source": [
    "##\n",
    "## Suma los valores para la misma clave.\n",
    "## Spark internamente ordena por claves\n",
    "##\n",
    "counts = wc.reduceByKey(add)\n",
    "counts.collect()[0:10]"
   ]
  },
  {
   "cell_type": "code",
   "execution_count": 21,
   "metadata": {},
   "outputs": [],
   "source": [
    "##\n",
    "## Escribe los resultados al directorio `/tmp/output`\n",
    "##\n",
    "counts.saveAsTextFile(\"/tmp/output\")"
   ]
  },
  {
   "cell_type": "code",
   "execution_count": 22,
   "metadata": {},
   "outputs": [],
   "source": [
    "## Archivo de resultados\n",
    "##   Los resultados son escritos al HDFS."
   ]
  },
  {
   "cell_type": "code",
   "execution_count": 23,
   "metadata": {},
   "outputs": [
    {
     "name": "stdout",
     "output_type": "stream",
     "text": [
      "Found 2 items\n",
      "drwxr-xr-x   - root supergroup          0 2019-11-28 02:21 /tmp/output\n",
      "drwxr-xr-x   - root supergroup          0 2019-11-28 02:19 /tmp/wordcount\n"
     ]
    }
   ],
   "source": [
    "!hdfs dfs -ls /tmp/"
   ]
  },
  {
   "cell_type": "code",
   "execution_count": 24,
   "metadata": {},
   "outputs": [
    {
     "name": "stdout",
     "output_type": "stream",
     "text": [
      "Found 5 items\n",
      "-rw-r--r--   1 root supergroup          0 2019-11-28 02:21 /tmp/output/_SUCCESS\n",
      "-rw-r--r--   1 root supergroup        778 2019-11-28 02:21 /tmp/output/part-00000\n",
      "-rw-r--r--   1 root supergroup        562 2019-11-28 02:21 /tmp/output/part-00001\n",
      "-rw-r--r--   1 root supergroup        510 2019-11-28 02:21 /tmp/output/part-00002\n",
      "-rw-r--r--   1 root supergroup        594 2019-11-28 02:21 /tmp/output/part-00003\n"
     ]
    }
   ],
   "source": [
    "## Archivos con los resultados. Note que se\n",
    "## generan varios archivos de resultados.\n",
    "!hdfs dfs -ls /tmp/output/"
   ]
  },
  {
   "cell_type": "code",
   "execution_count": 25,
   "metadata": {},
   "outputs": [],
   "source": [
    "## El archivo /tmp/output/_SUCCESS es un archivo vacio que indica que el programa fue ejecutado correctamente."
   ]
  },
  {
   "cell_type": "code",
   "execution_count": 26,
   "metadata": {},
   "outputs": [
    {
     "name": "stdout",
     "output_type": "stream",
     "text": [
      "('interpretation,', 1)\n",
      "('of', 8)\n",
      "('in', 5)\n",
      "('data.', 1)\n",
      "('Especially', 1)\n",
      "('analytics', 8)\n",
      "('simultaneous', 1)\n",
      "('operations', 1)\n",
      "('research', 2)\n",
      "('quantify', 1)\n",
      "('Organizations', 1)\n",
      "('may', 1)\n",
      "('business', 4)\n",
      "('predict,', 1)\n",
      "('include', 1)\n",
      "('decision', 1)\n",
      "('descriptive', 1)\n",
      "('store', 1)\n",
      "('optimization,', 2)\n",
      "('modeling,', 2)\n",
      "('speech', 1)\n",
      "('promotion', 1)\n",
      "('risk', 1)\n",
      "('fraud', 1)\n",
      "('Since', 1)\n",
      "('algorithms', 1)\n",
      "('used', 3)\n",
      "('harness', 1)\n",
      "('current', 1)\n",
      "('field', 1)\n",
      "('involves', 1)\n",
      "('studying', 1)\n",
      "('potential', 1)\n",
      "('trends,', 1)\n",
      "('performance', 1)\n",
      "('goal', 1)\n",
      "('changes.', 1)\n",
      "('process', 1)\n",
      "('draw', 1)\n",
      "('specialized', 1)\n",
      "('systems', 1)\n",
      "('software.', 1)\n",
      "('techniques', 1)\n",
      "('are', 1)\n",
      "('commercial', 1)\n",
      "('organizations', 1)\n",
      "('disprove', 1)\n",
      "('scientific', 1)\n",
      "('hypotheses.', 1)\n"
     ]
    }
   ],
   "source": [
    "!hdfs dfs -cat /tmp/output/part-00000"
   ]
  },
  {
   "cell_type": "code",
   "execution_count": 27,
   "metadata": {},
   "outputs": [],
   "source": [
    "## Movimiento de los archivos de resultados a la máquina local"
   ]
  },
  {
   "cell_type": "code",
   "execution_count": 28,
   "metadata": {},
   "outputs": [],
   "source": [
    "## crea la carpeta local para poder mover los archivos\n",
    "!mkdir -p output\n",
    "!hdfs dfs -copyToLocal /tmp/output/* output/"
   ]
  },
  {
   "cell_type": "code",
   "execution_count": 29,
   "metadata": {},
   "outputs": [
    {
     "name": "stdout",
     "output_type": "stream",
     "text": [
      "-rwxrwxrwx 1 1000 1000   0 Nov 28 02:23 output/_SUCCESS\n",
      "-rwxrwxrwx 1 1000 1000 778 Nov 28 02:23 output/part-00000\n",
      "-rwxrwxrwx 1 1000 1000 562 Nov 28 02:23 output/part-00001\n",
      "-rwxrwxrwx 1 1000 1000 510 Nov 28 02:23 output/part-00002\n",
      "-rwxrwxrwx 1 1000 1000 594 Nov 28 02:23 output/part-00003\n"
     ]
    }
   ],
   "source": [
    "!ls -l output/*"
   ]
  },
  {
   "cell_type": "code",
   "execution_count": 30,
   "metadata": {},
   "outputs": [],
   "source": [
    "#spark.stop()"
   ]
  },
  {
   "cell_type": "code",
   "execution_count": 31,
   "metadata": {},
   "outputs": [],
   "source": [
    "## Limpieza de las carpetas de trabajo"
   ]
  },
  {
   "cell_type": "code",
   "execution_count": 32,
   "metadata": {},
   "outputs": [
    {
     "name": "stdout",
     "output_type": "stream",
     "text": [
      "Deleted /tmp/wordcount\n",
      "Deleted /tmp/output\n"
     ]
    }
   ],
   "source": [
    "!rm -rf wordcount\n",
    "!rm -rf output\n",
    "!hdfs dfs -rm -r -f /tmp/wordcount/\n",
    "!hdfs dfs -rm -r -f /tmp/output/"
   ]
  },
  {
   "cell_type": "code",
   "execution_count": 33,
   "metadata": {},
   "outputs": [],
   "source": [
    "!hdfs dfs -ls /tmp"
   ]
  },
  {
   "cell_type": "code",
   "execution_count": null,
   "metadata": {},
   "outputs": [],
   "source": [
    "spark.stop()"
   ]
  }
 ],
 "metadata": {
  "kernelspec": {
   "display_name": "Python 3",
   "language": "python",
   "name": "python3"
  },
  "language_info": {
   "codemirror_mode": {
    "name": "ipython",
    "version": 3
   },
   "file_extension": ".py",
   "mimetype": "text/x-python",
   "name": "python",
   "nbconvert_exporter": "python",
   "pygments_lexer": "ipython3",
   "version": "3.6.8"
  }
 },
 "nbformat": 4,
 "nbformat_minor": 4
}

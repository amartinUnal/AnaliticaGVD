{
 "cells": [
  {
   "cell_type": "code",
   "execution_count": 1,
   "metadata": {},
   "outputs": [],
   "source": [
    "## Funciones de Usuario (udfs)\n",
    "##   Apache Pig permite la ejecución de funciones escritas en Java, Jython (http://www.jython.org/index.html), JavaScript, Ruby, Groovy y Python. \n",
    "##   Información detallada de la ejecución de udfs en estos lenguajes puede ser obtenida en https://pig.apache.org/docs/latest/udf.html#python-udfs.\n",
    "##   Véase http://www.jython.org/index.html. Para su uso, el script de Python debe estar ubicado en el directorio de trabajo. Para poder usar Jython, hay dos opciones; \n",
    "##   en la primera se debe indicar la ubicación del inteprete en la variable PIG_CLASSPATH. En algunos casos es necesario establacer la variable PYTHONPATH para que \n",
    "##   Pig pueda compilar las udfs."
   ]
  },
  {
   "cell_type": "code",
   "execution_count": 2,
   "metadata": {},
   "outputs": [],
   "source": [
    "%load_ext bigdata"
   ]
  },
  {
   "cell_type": "code",
   "execution_count": 3,
   "metadata": {},
   "outputs": [],
   "source": [
    "%pig_start"
   ]
  },
  {
   "cell_type": "code",
   "execution_count": 4,
   "metadata": {},
   "outputs": [],
   "source": [
    "%timeout 300"
   ]
  },
  {
   "cell_type": "code",
   "execution_count": 5,
   "metadata": {},
   "outputs": [
    {
     "name": "stdout",
     "output_type": "stream",
     "text": [
      "Writing udf.tsv\n"
     ]
    }
   ],
   "source": [
    "%%writefile udf.tsv\n",
    "A\tB\t1\n",
    "C\tD\t2\n",
    "E\tF\t3\n",
    "G\tH\t4\n",
    "I\tJ\t5"
   ]
  },
  {
   "cell_type": "code",
   "execution_count": 6,
   "metadata": {},
   "outputs": [],
   "source": [
    "!hadoop fs -put udf.tsv"
   ]
  },
  {
   "cell_type": "code",
   "execution_count": 7,
   "metadata": {},
   "outputs": [
    {
     "name": "stdout",
     "output_type": "stream",
     "text": [
      "Writing pigudf.py\n"
     ]
    }
   ],
   "source": [
    "%%writefile pigudf.py\n",
    "\n",
    "#from pig_util import outputSchema\n",
    "\n",
    "@outputSchema(\"as:int\")\n",
    "def square(num):\n",
    "    if num == None:\n",
    "        return None\n",
    "    return ((num) * (num))\n",
    "\n",
    "@outputSchema(\"word:chararray\")\n",
    "def concatenar(word1, word2):\n",
    "    return (word1 + word2)"
   ]
  },
  {
   "cell_type": "code",
   "execution_count": 8,
   "metadata": {},
   "outputs": [
    {
     "name": "stdout",
     "output_type": "stream",
     "text": [
      " --\n",
      " -- registra las funciones en el script `pigudf.py`.\n",
      " --\n",
      " REGISTER /Users/jdvelasq/jython2.7.0/jython.jar\n",
      "2019-11-28 01:52:33,225 [main] ERROR org.apache.pig.tools.grunt.Grunt - ERROR 101: file '/Users/jdvelasq/jython2.7.0/jython.jar' does not exist.\n",
      "Details at logfile: /datalake/pig_1574905866736.log\n",
      " REGISTER 'pigudf.py' using jython as myudf;\n",
      " u = LOAD 'udf.tsv' USING PigStorage()\n",
      "    AS (c1:CHARARRAY,\n",
      "        c2:CHARARRAY,\n",
      "        c3:INT);\n",
      " b = FOREACH u GENERATE myudf.concatenar(c1, c2), myudf.square(c3);\n",
      " DUMP b;\n",
      "2019-11-28 01:52:38,624 [main] INFO  org.apache.hadoop.yarn.client.RMProxy - Connecting to ResourceManager at /0.0.0.0:8032\n",
      "2019-11-28 01:52:38,803 [main] INFO  org.apache.hadoop.conf.Configuration.deprecation - mapred.job.reduce.markreset.buffer.percent is deprecated. Instead, use mapreduce.reduce.markreset.buffer.percent\n",
      "2019-11-28 01:52:38,806 [main] INFO  org.apache.hadoop.conf.Configuration.deprecation - mapred.output.compress is deprecated. Instead, use mapreduce.output.fileoutputformat.compress\n",
      "2019-11-28 01:52:38,819 [main] INFO  org.apache.hadoop.conf.Configuration.deprecation - mapred.submit.replication is deprecated. Instead, use mapreduce.client.submit.file.replication\n",
      "2019-11-28 01:52:39,370 [main] INFO  org.apache.hadoop.conf.Configuration.deprecation - mapred.job.tracker.http.address is deprecated. Instead, use mapreduce.jobtracker.http.address\n",
      "2019-11-28 01:52:39,378 [JobControl] INFO  org.apache.hadoop.yarn.client.RMProxy - Connecting to ResourceManager at /0.0.0.0:8032\n",
      "2019-11-28 01:52:39,396 [JobControl] INFO  org.apache.hadoop.conf.Configuration.deprecation - mapred.task.id is deprecated. Instead, use mapreduce.task.attempt.id\n",
      "2019-11-28 01:52:39,506 [JobControl] WARN  org.apache.hadoop.mapreduce.JobResourceUploader - No job jar file set.  User classes may not be found. See Job or Job#setJar(String).\n",
      "2019-11-28 01:52:39,546 [JobControl] INFO  org.apache.hadoop.mapreduce.lib.input.FileInputFormat - Total input files to process : 1\n",
      "2019-11-28 01:52:39,637 [JobControl] INFO  org.apache.hadoop.mapreduce.JobSubmitter - number of splits:1\n",
      "2019-11-28 01:52:39,783 [JobControl] INFO  org.apache.hadoop.mapreduce.JobSubmitter - Submitting tokens for job: job_1574900907551_0059\n",
      "2019-11-28 01:52:39,924 [JobControl] INFO  org.apache.hadoop.mapred.YARNRunner - Job jar is not present. Not adding any jar to the list of resources.\n",
      "2019-11-28 01:52:40,044 [JobControl] INFO  org.apache.hadoop.yarn.client.api.impl.YarnClientImpl - Submitted application application_1574900907551_0059\n",
      "2019-11-28 01:52:40,096 [JobControl] INFO  org.apache.hadoop.mapreduce.Job - The url to track the job: http://3c409129cda1:8088/proxy/application_1574900907551_0059/\n",
      "2019-11-28 01:53:00,254 [main] INFO  org.apache.hadoop.yarn.client.RMProxy - Connecting to ResourceManager at /0.0.0.0:8032\n",
      "2019-11-28 01:53:00,262 [main] INFO  org.apache.hadoop.mapred.ClientServiceDelegate - Application state is completed. FinalApplicationStatus=SUCCEEDED. Redirecting to job history server\n",
      "2019-11-28 01:53:00,447 [main] INFO  org.apache.hadoop.yarn.client.RMProxy - Connecting to ResourceManager at /0.0.0.0:8032\n",
      "2019-11-28 01:53:00,454 [main] INFO  org.apache.hadoop.mapred.ClientServiceDelegate - Application state is completed. FinalApplicationStatus=SUCCEEDED. Redirecting to job history server\n",
      "2019-11-28 01:53:00,493 [main] INFO  org.apache.hadoop.conf.Configuration.deprecation - mapred.reduce.tasks is deprecated. Instead, use mapreduce.job.reduces\n",
      "2019-11-28 01:53:00,496 [main] INFO  org.apache.hadoop.yarn.client.RMProxy - Connecting to ResourceManager at /0.0.0.0:8032\n",
      "2019-11-28 01:53:00,501 [main] INFO  org.apache.hadoop.mapred.ClientServiceDelegate - Application state is completed. FinalApplicationStatus=SUCCEEDED. Redirecting to job history server\n",
      "2019-11-28 01:53:00,564 [main] INFO  org.apache.hadoop.yarn.client.RMProxy - Connecting to ResourceManager at /0.0.0.0:8032\n",
      "2019-11-28 01:53:00,571 [main] INFO  org.apache.hadoop.mapred.ClientServiceDelegate - Application state is completed. FinalApplicationStatus=SUCCEEDED. Redirecting to job history server\n",
      "2019-11-28 01:53:00,597 [main] INFO  org.apache.hadoop.yarn.client.RMProxy - Connecting to ResourceManager at /0.0.0.0:8032\n",
      "2019-11-28 01:53:00,600 [main] INFO  org.apache.hadoop.mapred.ClientServiceDelegate - Application state is completed. FinalApplicationStatus=SUCCEEDED. Redirecting to job history server\n",
      "2019-11-28 01:53:00,623 [main] INFO  org.apache.hadoop.yarn.client.RMProxy - Connecting to ResourceManager at /0.0.0.0:8032\n",
      "2019-11-28 01:53:00,626 [main] INFO  org.apache.hadoop.mapred.ClientServiceDelegate - Application state is completed. FinalApplicationStatus=SUCCEEDED. Redirecting to job history server\n",
      "2019-11-28 01:53:00,672 [main] INFO  org.apache.hadoop.mapreduce.lib.input.FileInputFormat - Total input files to process : 1\n",
      "(AB,1)\n",
      "(CD,4)\n",
      "(EF,9)\n",
      "(GH,16)\n",
      "(IJ,25)\n"
     ]
    }
   ],
   "source": [
    "%%pig\n",
    "--\n",
    "-- registra las funciones en el script `pigudf.py`.\n",
    "--\n",
    "REGISTER /Users/jdvelasq/jython2.7.0/jython.jar\n",
    "REGISTER 'pigudf.py' using jython as myudf;\n",
    "\n",
    "u = LOAD 'udf.tsv' USING PigStorage()\n",
    "    AS (c1:CHARARRAY,\n",
    "        c2:CHARARRAY,\n",
    "        c3:INT);\n",
    "\n",
    "b = FOREACH u GENERATE myudf.concatenar(c1, c2), myudf.square(c3);\n",
    "DUMP b;"
   ]
  },
  {
   "cell_type": "code",
   "execution_count": 9,
   "metadata": {},
   "outputs": [],
   "source": [
    "!rm pigudf.py pig_*  udf.tsv"
   ]
  },
  {
   "cell_type": "code",
   "execution_count": null,
   "metadata": {},
   "outputs": [],
   "source": []
  }
 ],
 "metadata": {
  "kernelspec": {
   "display_name": "Python 3",
   "language": "python",
   "name": "python3"
  },
  "language_info": {
   "codemirror_mode": {
    "name": "ipython",
    "version": 3
   },
   "file_extension": ".py",
   "mimetype": "text/x-python",
   "name": "python",
   "nbconvert_exporter": "python",
   "pygments_lexer": "ipython3",
   "version": "3.6.8"
  }
 },
 "nbformat": 4,
 "nbformat_minor": 4
}

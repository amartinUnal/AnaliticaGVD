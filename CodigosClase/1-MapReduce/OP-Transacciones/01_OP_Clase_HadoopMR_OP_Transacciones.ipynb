{
 "cells": [
  {
   "cell_type": "code",
   "execution_count": 1,
   "metadata": {},
   "outputs": [],
   "source": [
    "## Analisis de las transacciones a partir de dos archivos"
   ]
  },
  {
   "cell_type": "code",
   "execution_count": 2,
   "metadata": {},
   "outputs": [],
   "source": [
    "## Eliminacion y creacion de las carpetas"
   ]
  },
  {
   "cell_type": "code",
   "execution_count": 3,
   "metadata": {},
   "outputs": [],
   "source": [
    "!rm -rf input output\n",
    "!mkdir input"
   ]
  },
  {
   "cell_type": "code",
   "execution_count": 4,
   "metadata": {},
   "outputs": [],
   "source": [
    "## Creacion de los archivos fuente\n",
    "##   transacciones:\n",
    "##     Id Transaccion\n",
    "##     Id Producto\n",
    "##     Id Usuario\n",
    "##     Valor Venta Producto\n",
    "##     Nombre Producto\n",
    "##   usaurios:\n",
    "##     Id Usuario\n",
    "##     Email Usuario\n",
    "##     Lenguaje\n",
    "##     Pais"
   ]
  },
  {
   "cell_type": "code",
   "execution_count": 5,
   "metadata": {},
   "outputs": [
    {
     "name": "stdout",
     "output_type": "stream",
     "text": [
      "Writing input/transacciones.txt\n"
     ]
    }
   ],
   "source": [
    "%%writefile input/transacciones.txt\n",
    "1\t1\t1\t300\ta jumper\n",
    "2\t1\t2\t300\ta jumper\n",
    "3\t1\t2\t300\ta jumper\n",
    "4\t2\t3\t100\ta rubber chicken\n",
    "5\t1\t3\t300\ta jumper"
   ]
  },
  {
   "cell_type": "code",
   "execution_count": 6,
   "metadata": {},
   "outputs": [
    {
     "name": "stdout",
     "output_type": "stream",
     "text": [
      "Writing input/usuarios.txt\n"
     ]
    }
   ],
   "source": [
    "%%writefile input/usuarios.txt\n",
    "1\tmatthew@test.com\tEN\tUS\n",
    "2\tmatthew@test2.com\tEN\tGB\n",
    "3\tmatthew@test3.com\tFR\tFR"
   ]
  },
  {
   "cell_type": "code",
   "execution_count": 7,
   "metadata": {},
   "outputs": [],
   "source": [
    "## Problema a resolver\n",
    "##   Se desea tener una tabla que indique el codigo del producto y el pais del cliente que lo adquirio"
   ]
  },
  {
   "cell_type": "code",
   "execution_count": 8,
   "metadata": {},
   "outputs": [],
   "source": [
    "## Paso 1:\n",
    "##   Se crea un Mapper que una la información de los archivos en un unico flujo de datos"
   ]
  },
  {
   "cell_type": "code",
   "execution_count": 9,
   "metadata": {},
   "outputs": [
    {
     "name": "stdout",
     "output_type": "stream",
     "text": [
      "Writing joinMapperTU.py\n"
     ]
    }
   ],
   "source": [
    "%%writefile joinMapperTU.py\n",
    "#!/usr/bin/env python3\n",
    "import sys\n",
    "if __name__ == \"__main__\":\n",
    "\tfor line in sys.stdin:\n",
    "\t\t# Setting some defaults\n",
    "\t\tuser_id = \"\"\n",
    "\t\tproduct_id = \"-\"\n",
    "\t\tlocation = \"-\"\n",
    "\n",
    "\t\tline = line.strip()\n",
    "\t\tsplits = line.split(\"\\t\")\n",
    "\t\t#print(str(len(splits)) + ' :: ' + line)\n",
    "\t\tif len(splits) != 4: # Transactions have more columns than users\n",
    "\t\t\tuser_id = splits[2]\n",
    "\t\t\tproduct_id = splits[1]\n",
    "\t\telse:\n",
    "\t\t\tuser_id = splits[0]\n",
    "\t\t\tlocation = splits[3] \n",
    "\t\tprint(user_id + '\\t' + product_id + '\\t' + location)\n"
   ]
  },
  {
   "cell_type": "code",
   "execution_count": 10,
   "metadata": {},
   "outputs": [],
   "source": [
    "## Se le da permisos de ejecución"
   ]
  },
  {
   "cell_type": "code",
   "execution_count": 11,
   "metadata": {},
   "outputs": [],
   "source": [
    "!chmod +x joinMapperTU.py"
   ]
  },
  {
   "cell_type": "code",
   "execution_count": 12,
   "metadata": {},
   "outputs": [],
   "source": [
    "## Se valida la ejecución y resultado"
   ]
  },
  {
   "cell_type": "code",
   "execution_count": 13,
   "metadata": {},
   "outputs": [
    {
     "name": "stdout",
     "output_type": "stream",
     "text": [
      "1\t1\t-\n",
      "2\t1\t-\n",
      "2\t1\t-\n",
      "3\t2\t-\n",
      "3\t1\t-\n",
      "1\t-\tUS\n",
      "2\t-\tGB\n",
      "3\t-\tFR\n"
     ]
    }
   ],
   "source": [
    "!cat ./input/*.txt | ./joinMapperTU.py "
   ]
  },
  {
   "cell_type": "code",
   "execution_count": 14,
   "metadata": {},
   "outputs": [],
   "source": [
    "## Notese que no es posible agruparlas porque los datos no estan ordenados, al ordenarlos sucede..."
   ]
  },
  {
   "cell_type": "code",
   "execution_count": 15,
   "metadata": {},
   "outputs": [
    {
     "name": "stdout",
     "output_type": "stream",
     "text": [
      "1\t-\tUS\n",
      "1\t1\t-\n",
      "2\t-\tGB\n",
      "2\t1\t-\n",
      "2\t1\t-\n",
      "3\t-\tFR\n",
      "3\t1\t-\n",
      "3\t2\t-\n"
     ]
    }
   ],
   "source": [
    "!cat ./input/*.txt | ./joinMapperTU.py | sort"
   ]
  },
  {
   "cell_type": "code",
   "execution_count": 16,
   "metadata": {},
   "outputs": [],
   "source": [
    "## Paso 2\n",
    "##   Se crea el reducer que permite agrupar la información"
   ]
  },
  {
   "cell_type": "code",
   "execution_count": 17,
   "metadata": {},
   "outputs": [
    {
     "name": "stdout",
     "output_type": "stream",
     "text": [
      "Writing joinReducerTU.py\n"
     ]
    }
   ],
   "source": [
    "%%writefile joinReducerTU.py\n",
    "#!/usr/bin/env python3\n",
    "import sys\n",
    "import string\n",
    "\n",
    "if __name__ == \"__main__\":\n",
    "\tlast_user_id = None\n",
    "\tcur_location = \"-\"\n",
    "\n",
    "\tfor line in sys.stdin:\n",
    "\t\tline = line.strip()\n",
    "\t\tuser_id,product_id,location = line.split(\"\\t\")\n",
    "\n",
    "\t\tif not last_user_id or last_user_id != user_id:\n",
    "\t\t\tlast_user_id = user_id\n",
    "\t\t\tcur_location = location\n",
    "\t\telif user_id == last_user_id:\n",
    "\t\t\tlocation = cur_location\n",
    "\t\t\tprint(product_id + '\\t' + location)"
   ]
  },
  {
   "cell_type": "code",
   "execution_count": 18,
   "metadata": {},
   "outputs": [],
   "source": [
    "!chmod +x joinReducerTU.py\t"
   ]
  },
  {
   "cell_type": "code",
   "execution_count": 19,
   "metadata": {},
   "outputs": [],
   "source": [
    "## Analizamos el resultado"
   ]
  },
  {
   "cell_type": "code",
   "execution_count": 20,
   "metadata": {},
   "outputs": [
    {
     "name": "stdout",
     "output_type": "stream",
     "text": [
      "1\tFR\n",
      "1\tGB\n",
      "1\tGB\n",
      "1\tUS\n",
      "2\tFR\n"
     ]
    }
   ],
   "source": [
    "cat ./input/*.txt | ./joinMapperTU.py | sort | ./joinReducerTU.py | sort"
   ]
  },
  {
   "cell_type": "code",
   "execution_count": 21,
   "metadata": {},
   "outputs": [],
   "source": [
    "## Limpiamos la maquina local"
   ]
  },
  {
   "cell_type": "code",
   "execution_count": 22,
   "metadata": {},
   "outputs": [],
   "source": [
    "!rm joinMapperTU.py joinReducerTU.py"
   ]
  },
  {
   "cell_type": "code",
   "execution_count": 23,
   "metadata": {},
   "outputs": [],
   "source": [
    "## Problema\n",
    "##   Se desea conocer el total de productos adquiridos por pais de ubicación del Cliente\n",
    "##\n",
    "##\n",
    "##\n",
    "##\n",
    "##\n",
    "##\n",
    "##"
   ]
  },
  {
   "cell_type": "code",
   "execution_count": 24,
   "metadata": {},
   "outputs": [
    {
     "name": "stdout",
     "output_type": "stream",
     "text": [
      "Writing joinMapperTU.py\n"
     ]
    }
   ],
   "source": [
    "%%writefile joinMapperTU.py\n",
    "#!/usr/bin/env python3\n",
    "import sys\n",
    "if __name__ == \"__main__\":\n",
    "\tfor line in sys.stdin:\n",
    "\t\t# Setting some defaults\n",
    "\t\tuser_id = \"\"\n",
    "\t\tproduct_id = \"-\"\n",
    "\t\tlocation = \"-\"\n",
    "\n",
    "\t\tline = line.strip()\n",
    "\t\tsplits = line.split(\"\\t\")\n",
    "\t\t#print(\"line \" + len(splits) + ' :: ' + line)\n",
    "\t\tif len(splits) != 4: # Transactions have more columns than users\n",
    "\t\t\tuser_id = splits[2]\n",
    "\t\t\tproduct_id = splits[1]\n",
    "\t\telse:\n",
    "\t\t\tuser_id = splits[0]\n",
    "\t\t\tlocation = splits[3] \n",
    "\t\tprint(user_id + '\\t' + product_id + '\\t' + location)"
   ]
  },
  {
   "cell_type": "code",
   "execution_count": 25,
   "metadata": {},
   "outputs": [],
   "source": [
    "!chmod +x joinMapperTU.py"
   ]
  },
  {
   "cell_type": "code",
   "execution_count": 26,
   "metadata": {},
   "outputs": [
    {
     "name": "stdout",
     "output_type": "stream",
     "text": [
      "1\t-\tUS\n",
      "1\t1\t-\n",
      "2\t-\tGB\n",
      "2\t1\t-\n",
      "2\t1\t-\n",
      "3\t-\tFR\n",
      "3\t1\t-\n",
      "3\t2\t-\n"
     ]
    }
   ],
   "source": [
    "!cat ./input/*.txt | ./joinMapperTU.py | sort"
   ]
  },
  {
   "cell_type": "code",
   "execution_count": 27,
   "metadata": {},
   "outputs": [
    {
     "name": "stdout",
     "output_type": "stream",
     "text": [
      "3\t2\t-\n",
      "3\t1\t-\n",
      "3\t-\tFR\n",
      "2\t1\t-\n",
      "2\t1\t-\n",
      "2\t-\tGB\n",
      "1\t1\t-\n",
      "1\t-\tUS\n"
     ]
    }
   ],
   "source": [
    "!cat ./input/*.txt | ./joinMapperTU.py | sort -r"
   ]
  },
  {
   "cell_type": "code",
   "execution_count": 28,
   "metadata": {},
   "outputs": [
    {
     "name": "stdout",
     "output_type": "stream",
     "text": [
      "Writing joinSuffleTU.py\n"
     ]
    }
   ],
   "source": [
    "%%writefile joinSuffleTU.py\n",
    "#!/usr/bin/env python3\n",
    "import sys\n",
    "import string\n",
    "\n",
    "if __name__ == \"__main__\":\n",
    "\tlast_user_id = None\n",
    "\tcur_location = \"-\"\n",
    "\n",
    "\tfor line in sys.stdin:\n",
    "\t\tline = line.strip()\n",
    "\t\tuser_id,product_id,location = line.split(\"\\t\")\n",
    "\n",
    "\t\tif not last_user_id or last_user_id != user_id:\n",
    "\t\t\tlast_user_id = user_id\n",
    "\t\t\tcur_location = location\n",
    "\t\telif user_id == last_user_id:\n",
    "\t\t\tlocation = cur_location\n",
    "\t\t\tprint(product_id + '\\t' + location)"
   ]
  },
  {
   "cell_type": "code",
   "execution_count": 29,
   "metadata": {},
   "outputs": [],
   "source": [
    "!chmod +x joinSuffleTU.py"
   ]
  },
  {
   "cell_type": "code",
   "execution_count": 30,
   "metadata": {},
   "outputs": [
    {
     "name": "stdout",
     "output_type": "stream",
     "text": [
      "1\tFR\n",
      "1\tGB\n",
      "1\tGB\n",
      "1\tUS\n",
      "2\tFR\n"
     ]
    }
   ],
   "source": [
    "cat ./input/*.txt | ./joinMapperTU.py | sort | ./joinSuffleTU.py | sort"
   ]
  },
  {
   "cell_type": "code",
   "execution_count": 31,
   "metadata": {},
   "outputs": [
    {
     "name": "stdout",
     "output_type": "stream",
     "text": [
      "1\tFR\n",
      "2\tFR\n",
      "1\tGB\n",
      "1\tGB\n",
      "1\tUS\n"
     ]
    }
   ],
   "source": [
    "cat ./input/*.txt | ./joinMapperTU.py | sort | ./joinSuffleTU.py | sort -k 2"
   ]
  },
  {
   "cell_type": "code",
   "execution_count": 32,
   "metadata": {},
   "outputs": [
    {
     "name": "stdout",
     "output_type": "stream",
     "text": [
      "Writing joinReduceTU.py\n"
     ]
    }
   ],
   "source": [
    "%%writefile joinReduceTU.py\n",
    "#!/usr/bin/env python3\n",
    "import sys\n",
    "import string\n",
    "\n",
    "if __name__ == \"__main__\":\n",
    "\ttotalLoc = 0\n",
    "\tlastLoc = ''\n",
    "\t\n",
    "\tfor line in sys.stdin:\n",
    "\t\tline = line.strip()\n",
    "\t\ttotalP,Location = line.split(\"\\t\") \n",
    "\n",
    "\t\tif lastLoc == '':\n",
    "\t\t\ttotalLoc = int(1)\n",
    "\t\t\tlastLoc = Location\n",
    "\t\telif lastLoc != Location:\n",
    "\t\t\tprint(str(totalLoc) + '\\t' + lastLoc)\n",
    "\t\t\ttotalLoc = int(1)\n",
    "\t\t\tlastLoc = Location\n",
    "\t\telse:\n",
    "\t\t\ttotalLoc = totalLoc + int(1)\n",
    "\tprint(str(totalLoc) + '\\t' + lastLoc)"
   ]
  },
  {
   "cell_type": "code",
   "execution_count": 33,
   "metadata": {},
   "outputs": [],
   "source": [
    "!chmod +x joinSuffleTU.py"
   ]
  },
  {
   "cell_type": "code",
   "execution_count": 34,
   "metadata": {},
   "outputs": [
    {
     "name": "stdout",
     "output_type": "stream",
     "text": [
      "/bin/sh: 1: joinReduceTU.py: not found\n",
      "sort: fflush failed: 'standard output': Broken pipe\n",
      "sort: write error\n"
     ]
    }
   ],
   "source": [
    "cat ./input/*.txt | ./joinMapperTU.py | sort | ./joinSuffleTU.py | sort | joinReduceTU.py"
   ]
  },
  {
   "cell_type": "code",
   "execution_count": 35,
   "metadata": {},
   "outputs": [
    {
     "name": "stdout",
     "output_type": "stream",
     "text": [
      "2\tFR\n",
      "2\tGB\n",
      "1\tUS\n"
     ]
    }
   ],
   "source": [
    "cat ./input/*.txt | ./joinMapperTU.py | sort | ./joinSuffleTU.py | sort -k 2 | ./joinReduceTU.py"
   ]
  },
  {
   "cell_type": "code",
   "execution_count": 36,
   "metadata": {},
   "outputs": [],
   "source": [
    "## Limpieza"
   ]
  },
  {
   "cell_type": "code",
   "execution_count": 37,
   "metadata": {},
   "outputs": [],
   "source": [
    "!rm joinMapperTU.py joinSuffleTU.py joinReduceTU.py"
   ]
  },
  {
   "cell_type": "code",
   "execution_count": null,
   "metadata": {},
   "outputs": [],
   "source": []
  },
  {
   "cell_type": "code",
   "execution_count": null,
   "metadata": {},
   "outputs": [],
   "source": []
  }
 ],
 "metadata": {
  "kernelspec": {
   "display_name": "Python 3",
   "language": "python",
   "name": "python3"
  },
  "language_info": {
   "codemirror_mode": {
    "name": "ipython",
    "version": 3
   },
   "file_extension": ".py",
   "mimetype": "text/x-python",
   "name": "python",
   "nbconvert_exporter": "python",
   "pygments_lexer": "ipython3",
   "version": "3.6.8"
  }
 },
 "nbformat": 4,
 "nbformat_minor": 4
}

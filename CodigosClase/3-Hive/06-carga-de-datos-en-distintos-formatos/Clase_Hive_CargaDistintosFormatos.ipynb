{
 "cells": [
  {
   "cell_type": "code",
   "execution_count": 1,
   "metadata": {},
   "outputs": [],
   "source": [
    "##\n",
    "## Se carga la librería para interactuar con Hive desde Jupyter.\n",
    "##\n",
    "%load_ext bigdata\n",
    "%timeout 300"
   ]
  },
  {
   "cell_type": "code",
   "execution_count": 2,
   "metadata": {},
   "outputs": [],
   "source": [
    "##\n",
    "## Crea la carpeta drivers en el HDFS\n",
    "##\n",
    "!hdfs dfs -rm -r -f /tmp/drivers\n",
    "!hdfs dfs -mkdir    /tmp/drivers"
   ]
  },
  {
   "cell_type": "code",
   "execution_count": 3,
   "metadata": {},
   "outputs": [
    {
     "name": "stdout",
     "output_type": "stream",
     "text": [
      "Get:1 http://archive.ubuntu.com/ubuntu bionic InRelease [242 kB]\n",
      "Get:2 https://deb.nodesource.com/node_13.x bionic InRelease [4584 B]           \n",
      "Get:3 https://deb.nodesource.com/node_13.x bionic/main amd64 Packages [766 B]  \n",
      "Get:4 http://archive.ubuntu.com/ubuntu bionic-updates InRelease [88.7 kB]      \n",
      "Get:5 http://archive.ubuntu.com/ubuntu bionic-backports InRelease [74.6 kB]    \n",
      "Get:6 http://archive.ubuntu.com/ubuntu bionic/main amd64 Packages [1344 kB]\n",
      "Get:7 http://security.ubuntu.com/ubuntu bionic-security InRelease [88.7 kB]\n",
      "Get:8 http://security.ubuntu.com/ubuntu bionic-security/universe amd64 Packages [789 kB]\n",
      "Get:9 http://archive.ubuntu.com/ubuntu bionic/multiverse amd64 Packages [186 kB]\n",
      "Get:10 http://security.ubuntu.com/ubuntu bionic-security/main amd64 Packages [738 kB]\n",
      "Get:11 http://archive.ubuntu.com/ubuntu bionic/universe amd64 Packages [11.3 MB]\n",
      "Get:12 http://security.ubuntu.com/ubuntu bionic-security/multiverse amd64 Packages [6508 B]\n",
      "Get:13 http://security.ubuntu.com/ubuntu bionic-security/restricted amd64 Packages [16.8 kB]\n",
      "Get:14 http://archive.ubuntu.com/ubuntu bionic/restricted amd64 Packages [13.5 kB]\n",
      "Get:15 http://archive.ubuntu.com/ubuntu bionic-updates/universe amd64 Packages [1316 kB]\n",
      "Get:16 http://archive.ubuntu.com/ubuntu bionic-updates/multiverse amd64 Packages [9549 B]\n",
      "Get:17 http://archive.ubuntu.com/ubuntu bionic-updates/main amd64 Packages [1034 kB]\n",
      "Get:18 http://archive.ubuntu.com/ubuntu bionic-updates/restricted amd64 Packages [29.9 kB]\n",
      "Get:19 http://archive.ubuntu.com/ubuntu bionic-backports/main amd64 Packages [2496 B]\n",
      "Get:20 http://archive.ubuntu.com/ubuntu bionic-backports/universe amd64 Packages [4235 B]\n",
      "Fetched 17.3 MB in 39s (450 kB/s)                                              \n",
      "Reading package lists... Done\n",
      "Reading package lists... Done\n",
      "Building dependency tree       \n",
      "Reading state information... Done\n",
      "wget is already the newest version (1.19.4-1ubuntu2.2).\n",
      "0 upgraded, 0 newly installed, 0 to remove and 10 not upgraded.\n"
     ]
    }
   ],
   "source": [
    "!apt-get update && apt-get install wget"
   ]
  },
  {
   "cell_type": "code",
   "execution_count": 4,
   "metadata": {},
   "outputs": [
    {
     "name": "stdout",
     "output_type": "stream",
     "text": [
      "--2019-11-27 22:37:49--  https://raw.githubusercontent.com/jdvelasq/datalabs/master/datasets/drivers/drivers.csv\n",
      "Resolving raw.githubusercontent.com (raw.githubusercontent.com)... 199.232.48.133\n",
      "Connecting to raw.githubusercontent.com (raw.githubusercontent.com)|199.232.48.133|:443... connected.\n",
      "HTTP request sent, awaiting response... 200 OK\n",
      "Length: 2043 (2.0K) [text/plain]\n",
      "Saving to: 'drivers.csv.1'\n",
      "\n",
      "drivers.csv.1       100%[===================>]   2.00K  --.-KB/s    in 0.001s  \n",
      "\n",
      "2019-11-27 22:37:49 (1.49 MB/s) - 'drivers.csv.1' saved [2043/2043]\n",
      "\n"
     ]
    }
   ],
   "source": [
    "!wget https://raw.githubusercontent.com/jdvelasq/datalabs/master/datasets/drivers/drivers.csv"
   ]
  },
  {
   "cell_type": "code",
   "execution_count": 5,
   "metadata": {},
   "outputs": [
    {
     "name": "stdout",
     "output_type": "stream",
     "text": [
      "--2019-11-27 22:37:53--  https://raw.githubusercontent.com/jdvelasq/datalabs/master/datasets/drivers/drivers.json\n",
      "Resolving raw.githubusercontent.com (raw.githubusercontent.com)... 199.232.48.133\n",
      "Connecting to raw.githubusercontent.com (raw.githubusercontent.com)|199.232.48.133|:443... connected.\n",
      "HTTP request sent, awaiting response... 200 OK\n",
      "Length: 4308 (4.2K) [text/plain]\n",
      "Saving to: 'drivers.json.1'\n",
      "\n",
      "drivers.json.1      100%[===================>]   4.21K  --.-KB/s    in 0.001s  \n",
      "\n",
      "2019-11-27 22:37:54 (2.88 MB/s) - 'drivers.json.1' saved [4308/4308]\n",
      "\n"
     ]
    }
   ],
   "source": [
    "!wget https://raw.githubusercontent.com/jdvelasq/datalabs/master/datasets/drivers/drivers.json"
   ]
  },
  {
   "cell_type": "code",
   "execution_count": 6,
   "metadata": {},
   "outputs": [],
   "source": [
    "## Lectura de formato JSON desde un archivo cargado como texto\n",
    "##   En esta estrategía de carga de datos, el archivo original con formato JSON es cargado como texto, donde cada registro de la tabla corresponde a una línea del archivo original."
   ]
  },
  {
   "cell_type": "code",
   "execution_count": 7,
   "metadata": {},
   "outputs": [],
   "source": [
    "##\n",
    "## Copia el archivo al HDFS para su importación posterior a Hive\n",
    "##\n",
    "!hdfs dfs -copyFromLocal drivers.json  /tmp/drivers/"
   ]
  },
  {
   "cell_type": "code",
   "execution_count": 8,
   "metadata": {},
   "outputs": [
    {
     "name": "stdout",
     "output_type": "stream",
     "text": [
      "Found 1 items\n",
      "-rw-r--r--   1 root supergroup       4308 2019-11-27 22:38 /tmp/drivers/drivers.json\n"
     ]
    }
   ],
   "source": [
    "!hdfs dfs -ls /tmp/drivers/"
   ]
  },
  {
   "cell_type": "code",
   "execution_count": 9,
   "metadata": {},
   "outputs": [
    {
     "name": "stdout",
     "output_type": "stream",
     "text": [
      "{\"driverId\":10,\"name\":\"George Vetticaden\",\"ssn\":621011971,\"location\":\"244-4532 Nulla Rd.\",\"certified\":\"N\",\"wage-plan\":\"miles\"}\n",
      "{\"driverId\":11,\"name\":\"Jamie Engesser\",\"ssn\":262112338,\"location\":\"366-4125 Ac Street\",\"certified\":\"N\",\"wage-plan\":\"miles\"}\n",
      "{\"driverId\":12,\"name\":\"Paul Coddin\",\"ssn\":198041975,\"location\":\"Ap #622-957 Risus. Street\",\"certified\":\"Y\",\"wage-plan\":\"hours\"}\n",
      "{\"driverId\":13,\"name\":\"Joe Niemiec\",\"ssn\":139907145,\"location\":\"2071 Hendrerit. Ave\",\"certified\":\"Y\",\"wage-plan\":\"hours\"}\n",
      "{\"driverId\":14,\"name\":\"Adis Cesir\",\"ssn\":820812209,\"location\":\"Ap #810-1228 In St.\",\"certified\":\"Y\",\"wage-plan\":\"hours\"}\n",
      "{\"driverId\":15,\"name\":\"Rohit Bakshi\",\"ssn\":239005227,\"location\":\"648-5681 Dui- Rd.\",\"certified\":\"Y\",\"wage-plan\":\"hours\"}\n",
      "{\"driverId\":16,\"name\":\"Tom McCuch\",\"ssn\":363303105,\"location\":\"P.O. Box 313- 962 Parturient Rd.\",\"certified\":\"Y\",\"wage-plan\":\"hours\"}\n",
      "{\"driverId\":17,\"name\":\"Eric Mizell\",\"ssn\":123808238,\"location\":\"P.O. Box 579- 2191 Gravida. Street\",\"certified\":\"Y\",\"wage-plan\":\"hours\"}\n",
      "{\"driverId\":18,\"name\":\"Grant Liu\",\"ssn\":171010151,\"location\":\"Ap #928-3159 Vestibulum Av.\",\"certified\":\"Y\",\"wage-plan\":\"hours\"}\n",
      "{\"driverId\":19,\"name\":\"Ajay Singh\",\"ssn\":160005158,\"location\":\"592-9430 Nonummy Avenue\",\"certified\":\"Y\",\"wage-plan\":\"hours\"}\n",
      "{\"driverId\":20,\"name\":\"Chris Harris\",\"ssn\":921812303,\"location\":\"883-2691 Proin Avenue\",\"certified\":\"Y\",\"wage-plan\":\"hours\"}\n",
      "{\"driverId\":21,\"name\":\"Jeff Markham\",\"ssn\":209408086,\"location\":\"Ap #852-7966 Facilisis St.\",\"certified\":\"Y\",\"wage-plan\":\"hours\"}\n",
      "{\"driverId\":22,\"name\":\"Nadeem Asghar\",\"ssn\":783204269,\"location\":\"154-9147 Aliquam Ave\",\"certified\":\"Y\",\"wage-plan\":\"hours\"}\n",
      "{\"driverId\":23,\"name\":\"Adam Diaz\",\"ssn\":928312208,\"location\":\"P.O. Box 260- 6127 Vitae Road\",\"certified\":\"Y\",\"wage-plan\":\"hours\"}\n",
      "{\"driverId\":24,\"name\":\"Don Hilborn\",\"ssn\":254412152,\"location\":\"4361 Ac Road\",\"certified\":\"Y\",\"wage-plan\":\"hours\"}\n",
      "{\"driverId\":25,\"name\":\"Jean-Philippe Playe\",\"ssn\":913310051,\"location\":\"P.O. Box 812- 6238 Ac Rd.\",\"certified\":\"Y\",\"wage-plan\":\"hours\"}\n",
      "{\"driverId\":26,\"name\":\"Michael Aube\",\"ssn\":124705141,\"location\":\"P.O. Box 213- 8948 Nec Ave\",\"certified\":\"Y\",\"wage-plan\":\"hours\"}\n",
      "{\"driverId\":27,\"name\":\"Mark Lochbihler\",\"ssn\":392603159,\"location\":\"8355 Ipsum St.\",\"certified\":\"Y\",\"wage-plan\":\"hours\"}\n",
      "{\"driverId\":28,\"name\":\"Olivier Renault\",\"ssn\":959908181,\"location\":\"P.O. Box 243- 6509 Erat. Avenue\",\"certified\":\"Y\",\"wage-plan\":\"hours\"}\n",
      "{\"driverId\":29,\"name\":\"Teddy Choi\",\"ssn\":185502192,\"location\":\"P.O. Box 106- 7003 Amet Rd.\",\"certified\":\"Y\",\"wage-plan\":\"hours\"}\n",
      "{\"driverId\":30,\"name\":\"Dan Rice\",\"ssn\":282307061,\"location\":\"Ap #881-9267 Mollis Avenue\",\"certified\":\"Y\",\"wage-plan\":\"hours\"}\n",
      "{\"driverId\":31,\"name\":\"Rommel Garcia\",\"ssn\":858912101,\"location\":\"P.O. Box 945- 6015 Sociis St.\",\"certified\":\"Y\",\"wage-plan\":\"hours\"}\n",
      "{\"driverId\":32,\"name\":\"Ryan Templeton\",\"ssn\":290304287,\"location\":\"765-6599 Egestas. Av.\",\"certified\":\"Y\",\"wage-plan\":\"hours\"}\n",
      "{\"driverId\":33,\"name\":\"Sridhara Sabbella\",\"ssn\":967409015,\"location\":\"Ap #477-2507 Sagittis Avenue\",\"certified\":\"Y\",\"wage-plan\":\"hours\"}\n",
      "{\"driverId\":34,\"name\":\"Frank Romano\",\"ssn\":391407216,\"location\":\"Ap #753-6814 Quis Ave\",\"certified\":\"Y\",\"wage-plan\":\"hours\"}\n",
      "{\"driverId\":35,\"name\":\"Emil Siemes\",\"ssn\":971401151,\"location\":\"321-2976 Felis Rd.\",\"certified\":\"Y\",\"wage-plan\":\"hours\"}\n",
      "{\"driverId\":36,\"name\":\"Andrew Grande\",\"ssn\":245303216,\"location\":\"Ap #685-9598 Egestas Rd.\",\"certified\":\"Y\",\"wage-plan\":\"hours\"}\n",
      "{\"driverId\":37,\"name\":\"Wes Floyd\",\"ssn\":190504074,\"location\":\"P.O. Box 269- 9611 Nulla Street\",\"certified\":\"Y\",\"wage-plan\":\"hours\"}\n",
      "{\"driverId\":38,\"name\":\"Scott Shaw\",\"ssn\":386411175,\"location\":\"276 Lobortis Road\",\"certified\":\"Y\",\"wage-plan\":\"hours\"}\n",
      "{\"driverId\":39,\"name\":\"David Kaiser\",\"ssn\":967706052,\"location\":\"9185 At Street\",\"certified\":\"Y\",\"wage-plan\":\"hours\"}\n",
      "{\"driverId\":40,\"name\":\"Nicolas Maillard\",\"ssn\":208510217,\"location\":\"1027 Quis Rd.\",\"certified\":\"Y\",\"wage-plan\":\"hours\"}\n",
      "{\"driverId\":41,\"name\":\"Greg Phillips\",\"ssn\":308103116,\"location\":\"P.O. Box 847- 5961 Arcu. Road\",\"certified\":\"Y\",\"wage-plan\":\"hours\"}\n",
      "{\"driverId\":42,\"name\":\"Randy Gelhausen\",\"ssn\":853302254,\"location\":\"145-4200 In- Avenue\",\"certified\":\"Y\",\"wage-plan\":\"hours\"}\n",
      "{\"driverId\":43,\"name\":\"Dave Patton\",\"ssn\":977706052,\"location\":\"3028 A- St.\",\"certified\":\"Y\",\"wage-plan\":\"hours\"}"
     ]
    }
   ],
   "source": [
    "## En la siguiente celda, se crea la tabla drivers_raw_json, la cual tiene una única columna llamada textcol. \n",
    "## Luego, el archivo drivers.json es cargado en dicha tabla. Finalmente, se visualizan los primeros cinco registros para verificar que la lectura fue correcta.\n",
    "!hdfs dfs -cat /tmp/drivers/drivers.json"
   ]
  },
  {
   "cell_type": "code",
   "execution_count": 10,
   "metadata": {},
   "outputs": [
    {
     "name": "stdout",
     "output_type": "stream",
     "text": [
      "DROP TABLE IF EXISTS drivers_raw_json;\n",
      "OK\n",
      "Time taken: 5.688 seconds\n"
     ]
    }
   ],
   "source": [
    "%%hive\n",
    "DROP TABLE IF EXISTS drivers_raw_json;"
   ]
  },
  {
   "cell_type": "code",
   "execution_count": 12,
   "metadata": {},
   "outputs": [
    {
     "name": "stdout",
     "output_type": "stream",
     "text": [
      "CREATE TABLE IF NOT EXISTS drivers_raw_json (textcol STRING)\n",
      "STORED AS TEXTFILE;\n",
      "OK\n",
      "Time taken: 0.556 seconds\n"
     ]
    }
   ],
   "source": [
    "%%hive\n",
    "CREATE TABLE IF NOT EXISTS drivers_raw_json (textcol STRING)\n",
    "STORED AS TEXTFILE;"
   ]
  },
  {
   "cell_type": "code",
   "execution_count": 13,
   "metadata": {},
   "outputs": [
    {
     "name": "stdout",
     "output_type": "stream",
     "text": [
      "LOAD DATA INPATH\n",
      "    '/tmp/drivers/drivers.json'\n",
      "OVERWRITE INTO TABLE drivers_raw_json;\n",
      "Loading data to table default.drivers_raw_json\n",
      "OK\n",
      "Time taken: 0.644 seconds\n"
     ]
    }
   ],
   "source": [
    "%%hive\n",
    "LOAD DATA INPATH\n",
    "    '/tmp/drivers/drivers.json'\n",
    "OVERWRITE INTO TABLE drivers_raw_json;\n"
   ]
  },
  {
   "cell_type": "code",
   "execution_count": 14,
   "metadata": {},
   "outputs": [
    {
     "name": "stdout",
     "output_type": "stream",
     "text": [
      "SELECT * FROM drivers_raw_json LIMIT 5;\n",
      "OK\n",
      "{\"driverId\":10,\"name\":\"George Vetticaden\",\"ssn\":621011971,\"location\":\"244-4532 Nulla Rd.\",\"certified\":\"N\",\"wage-plan\":\"miles\"}\n",
      "{\"driverId\":11,\"name\":\"Jamie Engesser\",\"ssn\":262112338,\"location\":\"366-4125 Ac Street\",\"certified\":\"N\",\"wage-plan\":\"miles\"}\n",
      "{\"driverId\":12,\"name\":\"Paul Coddin\",\"ssn\":198041975,\"location\":\"Ap #622-957 Risus. Street\",\"certified\":\"Y\",\"wage-plan\":\"hours\"}\n",
      "{\"driverId\":13,\"name\":\"Joe Niemiec\",\"ssn\":139907145,\"location\":\"2071 Hendrerit. Ave\",\"certified\":\"Y\",\"wage-plan\":\"hours\"}\n",
      "{\"driverId\":14,\"name\":\"Adis Cesir\",\"ssn\":820812209,\"location\":\"Ap #810-1228 In St.\",\"certified\":\"Y\",\"wage-plan\":\"hours\"}\n",
      "Time taken: 0.986 seconds, Fetched: 5 row(s)\n"
     ]
    }
   ],
   "source": [
    "%%hive\n",
    "SELECT * FROM drivers_raw_json LIMIT 5;"
   ]
  },
  {
   "cell_type": "code",
   "execution_count": 15,
   "metadata": {},
   "outputs": [],
   "source": [
    "## Lectura usando get_json_object\n",
    "##   Los valores de los campos pueden ser extraídos usando la función get_json_object, cuyos parámetros son el nombre del campo en la tabla y el nombre del campo en \n",
    "##   la estructura JSON. En el siguiente fragmento de código, se utiliza una consulta para extraer los campos driverId, name y ssn."
   ]
  },
  {
   "cell_type": "code",
   "execution_count": 16,
   "metadata": {},
   "outputs": [
    {
     "name": "stdout",
     "output_type": "stream",
     "text": [
      "SELECT\n",
      "    GET_JSON_OBJECT(textcol,'$.driverId'),\n",
      "    GET_JSON_OBJECT(textcol,'$.name'),\n",
      "    GET_JSON_OBJECT(textcol,'$.ssn')\n",
      "FROM\n",
      "    drivers_raw_json\n",
      "LIMIT\n",
      "    10;\n",
      "OK\n",
      "10\tGeorge Vetticaden\t621011971\n",
      "11\tJamie Engesser\t262112338\n",
      "12\tPaul Coddin\t198041975\n",
      "13\tJoe Niemiec\t139907145\n",
      "14\tAdis Cesir\t820812209\n",
      "15\tRohit Bakshi\t239005227\n",
      "16\tTom McCuch\t363303105\n",
      "17\tEric Mizell\t123808238\n",
      "18\tGrant Liu\t171010151\n",
      "19\tAjay Singh\t160005158\n",
      "Time taken: 0.265 seconds, Fetched: 10 row(s)\n"
     ]
    }
   ],
   "source": [
    "%%hive\n",
    "SELECT\n",
    "    GET_JSON_OBJECT(textcol,'$.driverId'),\n",
    "    GET_JSON_OBJECT(textcol,'$.name'),\n",
    "    GET_JSON_OBJECT(textcol,'$.ssn')\n",
    "FROM\n",
    "    drivers_raw_json\n",
    "LIMIT\n",
    "    10;"
   ]
  },
  {
   "cell_type": "code",
   "execution_count": 17,
   "metadata": {},
   "outputs": [],
   "source": [
    "## Uso de json_tuple\n",
    "##   Esta función cumple el mismo objetivo de la anterior, pero es mucho más eficiente ya que el registro es procesado únicamente una vez para realizar \n",
    "##   la extracción de la información requerida. Ya que json_tuple es una UDF, debe usarse LATERAL VIEW para realizar la consulta, tal como se ejemplifica a continuación."
   ]
  },
  {
   "cell_type": "code",
   "execution_count": 18,
   "metadata": {},
   "outputs": [
    {
     "name": "stdout",
     "output_type": "stream",
     "text": [
      "SELECT\n",
      "    t1.driverId,\n",
      "    t1.name,\n",
      "    t1.ssn\n",
      "FROM\n",
      "    drivers_raw_json  t0\n",
      "LATERAL VIEW\n",
      "    JSON_TUPLE(t0.textcol, 'driverId', 'name', 'ssn') t1\n",
      "    AS driverId, name, ssn\n",
      "LIMIT 5;\n",
      "OK\n",
      "10\tGeorge Vetticaden\t621011971\n",
      "11\tJamie Engesser\t262112338\n",
      "12\tPaul Coddin\t198041975\n",
      "13\tJoe Niemiec\t139907145\n",
      "14\tAdis Cesir\t820812209\n",
      "Time taken: 0.072 seconds, Fetched: 5 row(s)\n"
     ]
    }
   ],
   "source": [
    "%%hive\n",
    "SELECT\n",
    "    t1.driverId,\n",
    "    t1.name,\n",
    "    t1.ssn\n",
    "FROM\n",
    "    drivers_raw_json  t0\n",
    "LATERAL VIEW\n",
    "    JSON_TUPLE(t0.textcol, 'driverId', 'name', 'ssn') t1\n",
    "    AS driverId, name, ssn\n",
    "LIMIT 5;"
   ]
  },
  {
   "cell_type": "code",
   "execution_count": 19,
   "metadata": {},
   "outputs": [],
   "source": [
    "## Carga de archivos en formato JSON\n",
    "##   Hive también permite la importación directa de archivos en formato JSON usando el serde JsonSerDe."
   ]
  },
  {
   "cell_type": "code",
   "execution_count": 20,
   "metadata": {},
   "outputs": [],
   "source": [
    "##\n",
    "## Se copia el archivo al sistema HDFS\n",
    "##\n",
    "!hdfs dfs -copyFromLocal drivers.*  /tmp/drivers/"
   ]
  },
  {
   "cell_type": "code",
   "execution_count": 21,
   "metadata": {},
   "outputs": [],
   "source": [
    "## En la siguiente celda, se crea la tabla drivers_json donde el formato de cada registro es especificado como JSON"
   ]
  },
  {
   "cell_type": "code",
   "execution_count": 22,
   "metadata": {},
   "outputs": [
    {
     "name": "stdout",
     "output_type": "stream",
     "text": [
      "DROP TABLE IF EXISTS drivers_json;\n",
      "OK\n",
      "Time taken: 0.006 seconds\n",
      "CREATE TABLE drivers_json (\n",
      "    driverId  INT,\n",
      "    name      STRING,\n",
      "    ssn       BIGINT,\n",
      "    location  STRING,\n",
      "    certified STRING,\n",
      "    wageplan  STRING)\n",
      "ROW FORMAT SERDE 'org.apache.hive.hcatalog.data.JsonSerDe'\n",
      "STORED AS TEXTFILE\n",
      "LOCATION '/tmp/drivers-json';\n",
      "OK\n",
      "Time taken: 0.061 seconds\n",
      "json;DATA INPATH '/tmp/drivers/drivers.json' OVERWRITE INTO TABLE drivers_ \n",
      "Loading data to table default.drivers_json\n",
      "OK\n",
      "Time taken: 0.334 seconds\n",
      "SELECT * FROM drivers_json LIMIT 5;\n",
      "OK\n",
      "10\tGeorge Vetticaden\t621011971\t244-4532 Nulla Rd.\tN\tNULL\n",
      "11\tJamie Engesser\t262112338\t366-4125 Ac Street\tN\tNULL\n",
      "12\tPaul Coddin\t198041975\tAp #622-957 Risus. Street\tY\tNULL\n",
      "13\tJoe Niemiec\t139907145\t2071 Hendrerit. Ave\tY\tNULL\n",
      "14\tAdis Cesir\t820812209\tAp #810-1228 In St.\tY\tNULL\n",
      "Time taken: 0.124 seconds, Fetched: 5 row(s)\n"
     ]
    }
   ],
   "source": [
    "%%hive\n",
    "DROP TABLE IF EXISTS drivers_json;\n",
    "\n",
    "CREATE TABLE drivers_json (\n",
    "    driverId  INT,\n",
    "    name      STRING,\n",
    "    ssn       BIGINT,\n",
    "    location  STRING,\n",
    "    certified STRING,\n",
    "    wageplan  STRING)\n",
    "ROW FORMAT SERDE 'org.apache.hive.hcatalog.data.JsonSerDe'\n",
    "STORED AS TEXTFILE\n",
    "LOCATION '/tmp/drivers-json';\n",
    "\n",
    "LOAD DATA INPATH '/tmp/drivers/drivers.json' OVERWRITE INTO TABLE drivers_json;\n",
    "\n",
    "SELECT * FROM drivers_json LIMIT 5;"
   ]
  },
  {
   "cell_type": "code",
   "execution_count": 23,
   "metadata": {},
   "outputs": [],
   "source": [
    "## Carga de archivos en formato CSV\n",
    "##   En este ejemplo se usa el serde OpenCSVSerde para leer archivo en formato CSV. Note que se usa la cláusula with serdeproperties para indicar las características del formato CSV utilizado."
   ]
  },
  {
   "cell_type": "code",
   "execution_count": 24,
   "metadata": {},
   "outputs": [
    {
     "name": "stdout",
     "output_type": "stream",
     "text": [
      "DROP TABLE IF EXISTS drivers_csv;\n",
      "OK\n",
      "Time taken: 0.008 seconds\n",
      "CREATE TABLE drivers_csv (driverId  INT,\n",
      "                         name      STRING,\n",
      "                         ssn       BIGINT,\n",
      "                         location  STRING,\n",
      "                         certified STRING,\n",
      "                         wageplan  STRING)\n",
      "ROW FORMAT SERDE\n",
      "    'org.apache.hadoop.hive.serde2.OpenCSVSerde'\n",
      "WITH SERDEPROPERTIES (\n",
      "   'separatorChar' = \",\",\n",
      "   'quoteChar'     = '\\'',\n",
      "   'escapeChar'    = \"\\\\\");\n",
      "OK\n",
      "Time taken: 0.042 seconds\n",
      "sv;D DATA INPATH '/tmp/drivers/drivers.csv' OVERWRITE INTO TABLE drivers_c \n",
      "Loading data to table default.drivers_csv\n",
      "OK\n",
      "Time taken: 0.289 seconds\n",
      "SELECT * FROM drivers_csv LIMIT 5;\n",
      "OK\n",
      "driverId\tname\tssn\tlocation\tcertified\twage-plan\n",
      "10\tGeorge Vetticaden\t621011971\t244-4532 Nulla Rd.\tN\tmiles\n",
      "11\tJamie Engesser\t262112338\t366-4125 Ac Street\tN\tmiles\n",
      "12\tPaul Coddin\t198041975\tAp #622-957 Risus. Street\tY\thours\n",
      "13\tJoe Niemiec\t139907145\t2071 Hendrerit. Ave\tY\thours\n",
      "Time taken: 0.079 seconds, Fetched: 5 row(s)\n"
     ]
    }
   ],
   "source": [
    "%%hive\n",
    "DROP TABLE IF EXISTS drivers_csv;\n",
    "\n",
    "CREATE TABLE drivers_csv (driverId  INT,\n",
    "                         name      STRING,\n",
    "                         ssn       BIGINT,\n",
    "                         location  STRING,\n",
    "                         certified STRING,\n",
    "                         wageplan  STRING)\n",
    "ROW FORMAT SERDE\n",
    "    'org.apache.hadoop.hive.serde2.OpenCSVSerde'\n",
    "WITH SERDEPROPERTIES (\n",
    "   'separatorChar' = \",\",\n",
    "   'quoteChar'     = '\\'',\n",
    "   'escapeChar'    = \"\\\\\");\n",
    "\n",
    "LOAD DATA INPATH '/tmp/drivers/drivers.csv' OVERWRITE INTO TABLE drivers_csv;\n",
    "\n",
    "SELECT * FROM drivers_csv LIMIT 5;"
   ]
  },
  {
   "cell_type": "code",
   "execution_count": 25,
   "metadata": {},
   "outputs": [],
   "source": [
    "## Carga usando expresiones regulaes y RegexSerDe\n",
    "##   En este caso, se realiza la carga de datos especificando los campos mediante el uso de expresiones regulares."
   ]
  },
  {
   "cell_type": "code",
   "execution_count": 26,
   "metadata": {},
   "outputs": [],
   "source": [
    "##\n",
    "## Copia los archivos al HDFS\n",
    "##\n",
    "!hdfs dfs -copyFromLocal drivers.csv  /tmp/drivers/"
   ]
  },
  {
   "cell_type": "code",
   "execution_count": 27,
   "metadata": {},
   "outputs": [
    {
     "name": "stdout",
     "output_type": "stream",
     "text": [
      "DROP TABLE IF EXISTS drivers_regex;\n",
      "OK\n",
      "Time taken: 0.005 seconds\n",
      "CREATE TABLE drivers_regex(\n",
      "    driverId  INT,\n",
      "    name      STRING,\n",
      "    ssn       BIGINT,\n",
      "    location  STRING,\n",
      "    certified STRING,\n",
      "    wageplan  STRING)\n",
      "ROW FORMAT SERDE\n",
      "    'org.apache.hadoop.hive.serde2.RegexSerDe'\n",
      "WITH SERDEPROPERTIES (\n",
      "   'input.regex' = '(\\\\d+),([^,]*),(\\\\d+),([^,]*),([^,]*),([^,]*)')\n",
      "TBLPROPERTIES (\"skip.header.line.count\"=\"1\");\n",
      "OK\n",
      "Time taken: 0.05 seconds\n",
      "egex;DATA INPATH '/tmp/drivers/drivers.csv' OVERWRITE INTO TABLE drivers_r \n",
      "Loading data to table default.drivers_regex\n",
      "OK\n",
      "Time taken: 0.351 seconds\n",
      "SELECT * FROM drivers_regex LIMIT 5;\n",
      "OK\n",
      "10\tGeorge Vetticaden\t621011971\t244-4532 Nulla Rd.\tN\tmiles\n",
      "11\tJamie Engesser\t262112338\t366-4125 Ac Street\tN\tmiles\n",
      "12\tPaul Coddin\t198041975\tAp #622-957 Risus. Street\tY\thours\n",
      "13\tJoe Niemiec\t139907145\t2071 Hendrerit. Ave\tY\thours\n",
      "14\tAdis Cesir\t820812209\tAp #810-1228 In St.\tY\thours\n",
      "Time taken: 0.101 seconds, Fetched: 5 row(s)\n"
     ]
    }
   ],
   "source": [
    "%%hive\n",
    "DROP TABLE IF EXISTS drivers_regex;\n",
    "\n",
    "CREATE TABLE drivers_regex(\n",
    "    driverId  INT,\n",
    "    name      STRING,\n",
    "    ssn       BIGINT,\n",
    "    location  STRING,\n",
    "    certified STRING,\n",
    "    wageplan  STRING)\n",
    "ROW FORMAT SERDE\n",
    "    'org.apache.hadoop.hive.serde2.RegexSerDe'\n",
    "WITH SERDEPROPERTIES (\n",
    "   'input.regex' = '(\\\\d+),([^,]*),(\\\\d+),([^,]*),([^,]*),([^,]*)')\n",
    "TBLPROPERTIES (\"skip.header.line.count\"=\"1\");\n",
    "\n",
    "LOAD DATA INPATH '/tmp/drivers/drivers.csv' OVERWRITE INTO TABLE drivers_regex;\n",
    "\n",
    "SELECT * FROM drivers_regex LIMIT 5;"
   ]
  },
  {
   "cell_type": "code",
   "execution_count": 28,
   "metadata": {},
   "outputs": [],
   "source": [
    "## La expresión regular usada es la siguiente: (\\\\d+),([^,]*),(\\\\d+),([^,]*),([^,]*),([^,]*)`\n",
    "## donde:\n",
    "##   Los paréntesis indica los campos, esto es, (\\\\d+) es el primer campo, ([^,]*) es el segundo y así sucesivamente.\n",
    "##   Se indica que la coma es el separador entre campos.\n",
    "##   (\\\\d+) representa una cadena de uno o más dígitos.\n",
    "##   [...] representan uno o más posibles caracteres, de tal forma que [^,] indica cualquier caracter excepto una coma. Finalmente, el * indica cero, una o más ocurrencias. Es así como [^,]* representa cualquier cadena de caracteres que no contenga una coma.\n",
    "##   La expresión regular usada indica que los campos 1 y 3 son numéricos, y los restantes son texto."
   ]
  },
  {
   "cell_type": "code",
   "execution_count": 29,
   "metadata": {},
   "outputs": [
    {
     "name": "stdout",
     "output_type": "stream",
     "text": [
      "rm: cannot remove 'derby.log': Text file busy\n",
      "rm: cannot remove 'ubuntu-bionic-18.04-cloudimg-console.log': Text file busy\n"
     ]
    }
   ],
   "source": [
    "!rm drivers.* *.log"
   ]
  },
  {
   "cell_type": "code",
   "execution_count": null,
   "metadata": {},
   "outputs": [],
   "source": []
  }
 ],
 "metadata": {
  "kernelspec": {
   "display_name": "Python 3",
   "language": "python",
   "name": "python3"
  },
  "language_info": {
   "codemirror_mode": {
    "name": "ipython",
    "version": 3
   },
   "file_extension": ".py",
   "mimetype": "text/x-python",
   "name": "python",
   "nbconvert_exporter": "python",
   "pygments_lexer": "ipython3",
   "version": "3.6.8"
  }
 },
 "nbformat": 4,
 "nbformat_minor": 4
}
